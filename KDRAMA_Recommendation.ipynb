{
 "cells": [
  {
   "cell_type": "code",
   "execution_count": 1,
   "id": "48f603f3",
   "metadata": {},
   "outputs": [],
   "source": [
    "import pandas as pd\n",
    "import numpy as np\n",
    "import matplotlib.pyplot as plt\n",
    "import seaborn as sns\n",
    "import difflib\n",
    "from sklearn.feature_extraction.text import TfidfVectorizer\n",
    "from sklearn.metrics.pairwise import cosine_similarity"
   ]
  },
  {
   "cell_type": "code",
   "execution_count": 2,
   "id": "5143e08f",
   "metadata": {},
   "outputs": [
    {
     "data": {
      "text/html": [
       "<div>\n",
       "<style scoped>\n",
       "    .dataframe tbody tr th:only-of-type {\n",
       "        vertical-align: middle;\n",
       "    }\n",
       "\n",
       "    .dataframe tbody tr th {\n",
       "        vertical-align: top;\n",
       "    }\n",
       "\n",
       "    .dataframe thead th {\n",
       "        text-align: right;\n",
       "    }\n",
       "</style>\n",
       "<table border=\"1\" class=\"dataframe\">\n",
       "  <thead>\n",
       "    <tr style=\"text-align: right;\">\n",
       "      <th></th>\n",
       "      <th>Name</th>\n",
       "      <th>Aired Date</th>\n",
       "      <th>Year of release</th>\n",
       "      <th>Original Network</th>\n",
       "      <th>Aired On</th>\n",
       "      <th>Number of Episodes</th>\n",
       "      <th>Duration</th>\n",
       "      <th>Content Rating</th>\n",
       "      <th>Rating</th>\n",
       "      <th>Synopsis</th>\n",
       "      <th>Genre</th>\n",
       "      <th>Tags</th>\n",
       "      <th>Director</th>\n",
       "      <th>Screenwriter</th>\n",
       "      <th>Cast</th>\n",
       "      <th>Production companies</th>\n",
       "      <th>Rank</th>\n",
       "    </tr>\n",
       "  </thead>\n",
       "  <tbody>\n",
       "    <tr>\n",
       "      <th>0</th>\n",
       "      <td>Move to Heaven</td>\n",
       "      <td>May 14, 2021</td>\n",
       "      <td>2021</td>\n",
       "      <td>Netflix</td>\n",
       "      <td>Friday</td>\n",
       "      <td>10</td>\n",
       "      <td>52 min.</td>\n",
       "      <td>18+ Restricted (violence &amp; profanity)</td>\n",
       "      <td>9.2</td>\n",
       "      <td>Geu Roo is a young autistic man. He works for ...</td>\n",
       "      <td>Life,  Drama,  Family</td>\n",
       "      <td>Autism, Uncle-Nephew Relationship, Death, Sava...</td>\n",
       "      <td>Kim Sung Ho</td>\n",
       "      <td>Yoon Ji Ryun</td>\n",
       "      <td>Lee Je Hoon, Tang Jun Sang, Hong Seung Hee, Ju...</td>\n",
       "      <td>Page One Film, Number Three Pictures</td>\n",
       "      <td>#1</td>\n",
       "    </tr>\n",
       "    <tr>\n",
       "      <th>1</th>\n",
       "      <td>Flower of Evil</td>\n",
       "      <td>Jul 29, 2020 - Sep 23, 2020</td>\n",
       "      <td>2020</td>\n",
       "      <td>tvN</td>\n",
       "      <td>Wednesday, Thursday</td>\n",
       "      <td>16</td>\n",
       "      <td>1 hr. 10 min.</td>\n",
       "      <td>15+ - Teens 15 or older</td>\n",
       "      <td>9.1</td>\n",
       "      <td>Although Baek Hee Sung is hiding a dark secret...</td>\n",
       "      <td>Thriller,  Romance,  Crime,  Melodrama</td>\n",
       "      <td>Married Couple, Deception, Suspense, Family Se...</td>\n",
       "      <td>Kim Chul Gyu, Yoon Jong Ho</td>\n",
       "      <td>Yoo Jung Hee</td>\n",
       "      <td>Lee Joon Gi, Moon Chae Won, Jang Hee Jin, Seo ...</td>\n",
       "      <td>Monster Union</td>\n",
       "      <td>#2</td>\n",
       "    </tr>\n",
       "    <tr>\n",
       "      <th>2</th>\n",
       "      <td>Hospital Playlist</td>\n",
       "      <td>Mar 12, 2020 - May 28, 2020</td>\n",
       "      <td>2020</td>\n",
       "      <td>Netflix,  tvN</td>\n",
       "      <td>Thursday</td>\n",
       "      <td>12</td>\n",
       "      <td>1 hr. 30 min.</td>\n",
       "      <td>15+ - Teens 15 or older</td>\n",
       "      <td>9.1</td>\n",
       "      <td>The stories of people going through their days...</td>\n",
       "      <td>Friendship,  Romance,  Life,  Medical</td>\n",
       "      <td>Strong Friendship, Multiple Mains, Best Friend...</td>\n",
       "      <td>Shin Won Ho</td>\n",
       "      <td>Lee Woo Jung</td>\n",
       "      <td>Jo Jung Suk, Yoo Yeon Seok, Jung Kyung Ho, Kim...</td>\n",
       "      <td>Egg Is Coming, CJ ENM</td>\n",
       "      <td>#3</td>\n",
       "    </tr>\n",
       "    <tr>\n",
       "      <th>3</th>\n",
       "      <td>Hospital Playlist 2</td>\n",
       "      <td>Jun 17, 2021 - Sep 16, 2021</td>\n",
       "      <td>2021</td>\n",
       "      <td>Netflix,  tvN</td>\n",
       "      <td>Thursday</td>\n",
       "      <td>12</td>\n",
       "      <td>1 hr. 40 min.</td>\n",
       "      <td>15+ - Teens 15 or older</td>\n",
       "      <td>9.1</td>\n",
       "      <td>Everyday is extraordinary for five doctors and...</td>\n",
       "      <td>Friendship,  Romance,  Life,  Medical</td>\n",
       "      <td>Workplace, Strong Friendship, Best Friends, Mu...</td>\n",
       "      <td>Shin Won Ho</td>\n",
       "      <td>Lee Woo Jung</td>\n",
       "      <td>Jo Jung Suk, Yoo Yeon Seok, Jung Kyung Ho, Kim...</td>\n",
       "      <td>Egg Is Coming, CJ ENM</td>\n",
       "      <td>#4</td>\n",
       "    </tr>\n",
       "    <tr>\n",
       "      <th>4</th>\n",
       "      <td>My Mister</td>\n",
       "      <td>Mar 21, 2018 - May 17, 2018</td>\n",
       "      <td>2018</td>\n",
       "      <td>tvN</td>\n",
       "      <td>Wednesday, Thursday</td>\n",
       "      <td>16</td>\n",
       "      <td>1 hr. 17 min.</td>\n",
       "      <td>15+ - Teens 15 or older</td>\n",
       "      <td>9.1</td>\n",
       "      <td>Park Dong Hoon is a middle-aged engineer who i...</td>\n",
       "      <td>Psychological,  Life,  Drama,  Family</td>\n",
       "      <td>Age Gap, Nice Male Lead, Strong Female Lead, H...</td>\n",
       "      <td>Kim Won Suk, Kim Sang Woo</td>\n",
       "      <td>Park Hae Young</td>\n",
       "      <td>Lee Sun Kyun, IU, Park Ho San, Song Sae Byuk, ...</td>\n",
       "      <td>Chorokbaem Media</td>\n",
       "      <td>#5</td>\n",
       "    </tr>\n",
       "  </tbody>\n",
       "</table>\n",
       "</div>"
      ],
      "text/plain": [
       "                  Name                   Aired Date  Year of release  \\\n",
       "0       Move to Heaven                 May 14, 2021             2021   \n",
       "1       Flower of Evil  Jul 29, 2020 - Sep 23, 2020             2020   \n",
       "2    Hospital Playlist  Mar 12, 2020 - May 28, 2020             2020   \n",
       "3  Hospital Playlist 2  Jun 17, 2021 - Sep 16, 2021             2021   \n",
       "4            My Mister  Mar 21, 2018 - May 17, 2018             2018   \n",
       "\n",
       "  Original Network              Aired On  Number of Episodes       Duration  \\\n",
       "0          Netflix                Friday                  10        52 min.   \n",
       "1              tvN   Wednesday, Thursday                  16  1 hr. 10 min.   \n",
       "2   Netflix,  tvN               Thursday                  12  1 hr. 30 min.   \n",
       "3   Netflix,  tvN               Thursday                  12  1 hr. 40 min.   \n",
       "4              tvN   Wednesday, Thursday                  16  1 hr. 17 min.   \n",
       "\n",
       "                          Content Rating  Rating  \\\n",
       "0  18+ Restricted (violence & profanity)     9.2   \n",
       "1                15+ - Teens 15 or older     9.1   \n",
       "2                15+ - Teens 15 or older     9.1   \n",
       "3                15+ - Teens 15 or older     9.1   \n",
       "4                15+ - Teens 15 or older     9.1   \n",
       "\n",
       "                                            Synopsis  \\\n",
       "0  Geu Roo is a young autistic man. He works for ...   \n",
       "1  Although Baek Hee Sung is hiding a dark secret...   \n",
       "2  The stories of people going through their days...   \n",
       "3  Everyday is extraordinary for five doctors and...   \n",
       "4  Park Dong Hoon is a middle-aged engineer who i...   \n",
       "\n",
       "                                     Genre  \\\n",
       "0                   Life,  Drama,  Family    \n",
       "1  Thriller,  Romance,  Crime,  Melodrama    \n",
       "2   Friendship,  Romance,  Life,  Medical    \n",
       "3   Friendship,  Romance,  Life,  Medical    \n",
       "4   Psychological,  Life,  Drama,  Family    \n",
       "\n",
       "                                                Tags  \\\n",
       "0  Autism, Uncle-Nephew Relationship, Death, Sava...   \n",
       "1  Married Couple, Deception, Suspense, Family Se...   \n",
       "2  Strong Friendship, Multiple Mains, Best Friend...   \n",
       "3  Workplace, Strong Friendship, Best Friends, Mu...   \n",
       "4  Age Gap, Nice Male Lead, Strong Female Lead, H...   \n",
       "\n",
       "                     Director    Screenwriter  \\\n",
       "0                 Kim Sung Ho    Yoon Ji Ryun   \n",
       "1  Kim Chul Gyu, Yoon Jong Ho    Yoo Jung Hee   \n",
       "2                 Shin Won Ho    Lee Woo Jung   \n",
       "3                 Shin Won Ho    Lee Woo Jung   \n",
       "4   Kim Won Suk, Kim Sang Woo  Park Hae Young   \n",
       "\n",
       "                                                Cast  \\\n",
       "0  Lee Je Hoon, Tang Jun Sang, Hong Seung Hee, Ju...   \n",
       "1  Lee Joon Gi, Moon Chae Won, Jang Hee Jin, Seo ...   \n",
       "2  Jo Jung Suk, Yoo Yeon Seok, Jung Kyung Ho, Kim...   \n",
       "3  Jo Jung Suk, Yoo Yeon Seok, Jung Kyung Ho, Kim...   \n",
       "4  Lee Sun Kyun, IU, Park Ho San, Song Sae Byuk, ...   \n",
       "\n",
       "                   Production companies Rank  \n",
       "0  Page One Film, Number Three Pictures   #1  \n",
       "1                         Monster Union   #2  \n",
       "2                 Egg Is Coming, CJ ENM   #3  \n",
       "3                 Egg Is Coming, CJ ENM   #4  \n",
       "4                      Chorokbaem Media   #5  "
      ]
     },
     "execution_count": 2,
     "metadata": {},
     "output_type": "execute_result"
    }
   ],
   "source": [
    "df = pd.read_csv(\"kdrama.csv\")\n",
    "df.head()"
   ]
  },
  {
   "cell_type": "code",
   "execution_count": 3,
   "id": "a6e31bf3",
   "metadata": {},
   "outputs": [],
   "source": [
    "df['Rank']= df['Rank'].str.replace('#','').astype(int)"
   ]
  },
  {
   "cell_type": "code",
   "execution_count": 4,
   "id": "06ca995c",
   "metadata": {},
   "outputs": [
    {
     "data": {
      "text/html": [
       "<div>\n",
       "<style scoped>\n",
       "    .dataframe tbody tr th:only-of-type {\n",
       "        vertical-align: middle;\n",
       "    }\n",
       "\n",
       "    .dataframe tbody tr th {\n",
       "        vertical-align: top;\n",
       "    }\n",
       "\n",
       "    .dataframe thead th {\n",
       "        text-align: right;\n",
       "    }\n",
       "</style>\n",
       "<table border=\"1\" class=\"dataframe\">\n",
       "  <thead>\n",
       "    <tr style=\"text-align: right;\">\n",
       "      <th></th>\n",
       "      <th>Name</th>\n",
       "      <th>Aired Date</th>\n",
       "      <th>Year of release</th>\n",
       "      <th>Original Network</th>\n",
       "      <th>Aired On</th>\n",
       "      <th>Number of Episodes</th>\n",
       "      <th>Duration</th>\n",
       "      <th>Content Rating</th>\n",
       "      <th>Rating</th>\n",
       "      <th>Synopsis</th>\n",
       "      <th>Genre</th>\n",
       "      <th>Tags</th>\n",
       "      <th>Director</th>\n",
       "      <th>Screenwriter</th>\n",
       "      <th>Cast</th>\n",
       "      <th>Production companies</th>\n",
       "      <th>Rank</th>\n",
       "    </tr>\n",
       "  </thead>\n",
       "  <tbody>\n",
       "    <tr>\n",
       "      <th>0</th>\n",
       "      <td>Move to Heaven</td>\n",
       "      <td>May 14, 2021</td>\n",
       "      <td>2021</td>\n",
       "      <td>Netflix</td>\n",
       "      <td>Friday</td>\n",
       "      <td>10</td>\n",
       "      <td>52 min.</td>\n",
       "      <td>18+ Restricted (violence &amp; profanity)</td>\n",
       "      <td>9.2</td>\n",
       "      <td>Geu Roo is a young autistic man. He works for ...</td>\n",
       "      <td>Life,  Drama,  Family</td>\n",
       "      <td>Autism, Uncle-Nephew Relationship, Death, Sava...</td>\n",
       "      <td>Kim Sung Ho</td>\n",
       "      <td>Yoon Ji Ryun</td>\n",
       "      <td>Lee Je Hoon, Tang Jun Sang, Hong Seung Hee, Ju...</td>\n",
       "      <td>Page One Film, Number Three Pictures</td>\n",
       "      <td>1</td>\n",
       "    </tr>\n",
       "    <tr>\n",
       "      <th>1</th>\n",
       "      <td>Flower of Evil</td>\n",
       "      <td>Jul 29, 2020 - Sep 23, 2020</td>\n",
       "      <td>2020</td>\n",
       "      <td>tvN</td>\n",
       "      <td>Wednesday, Thursday</td>\n",
       "      <td>16</td>\n",
       "      <td>1 hr. 10 min.</td>\n",
       "      <td>15+ - Teens 15 or older</td>\n",
       "      <td>9.1</td>\n",
       "      <td>Although Baek Hee Sung is hiding a dark secret...</td>\n",
       "      <td>Thriller,  Romance,  Crime,  Melodrama</td>\n",
       "      <td>Married Couple, Deception, Suspense, Family Se...</td>\n",
       "      <td>Kim Chul Gyu, Yoon Jong Ho</td>\n",
       "      <td>Yoo Jung Hee</td>\n",
       "      <td>Lee Joon Gi, Moon Chae Won, Jang Hee Jin, Seo ...</td>\n",
       "      <td>Monster Union</td>\n",
       "      <td>2</td>\n",
       "    </tr>\n",
       "    <tr>\n",
       "      <th>2</th>\n",
       "      <td>Hospital Playlist</td>\n",
       "      <td>Mar 12, 2020 - May 28, 2020</td>\n",
       "      <td>2020</td>\n",
       "      <td>Netflix,  tvN</td>\n",
       "      <td>Thursday</td>\n",
       "      <td>12</td>\n",
       "      <td>1 hr. 30 min.</td>\n",
       "      <td>15+ - Teens 15 or older</td>\n",
       "      <td>9.1</td>\n",
       "      <td>The stories of people going through their days...</td>\n",
       "      <td>Friendship,  Romance,  Life,  Medical</td>\n",
       "      <td>Strong Friendship, Multiple Mains, Best Friend...</td>\n",
       "      <td>Shin Won Ho</td>\n",
       "      <td>Lee Woo Jung</td>\n",
       "      <td>Jo Jung Suk, Yoo Yeon Seok, Jung Kyung Ho, Kim...</td>\n",
       "      <td>Egg Is Coming, CJ ENM</td>\n",
       "      <td>3</td>\n",
       "    </tr>\n",
       "    <tr>\n",
       "      <th>3</th>\n",
       "      <td>Hospital Playlist 2</td>\n",
       "      <td>Jun 17, 2021 - Sep 16, 2021</td>\n",
       "      <td>2021</td>\n",
       "      <td>Netflix,  tvN</td>\n",
       "      <td>Thursday</td>\n",
       "      <td>12</td>\n",
       "      <td>1 hr. 40 min.</td>\n",
       "      <td>15+ - Teens 15 or older</td>\n",
       "      <td>9.1</td>\n",
       "      <td>Everyday is extraordinary for five doctors and...</td>\n",
       "      <td>Friendship,  Romance,  Life,  Medical</td>\n",
       "      <td>Workplace, Strong Friendship, Best Friends, Mu...</td>\n",
       "      <td>Shin Won Ho</td>\n",
       "      <td>Lee Woo Jung</td>\n",
       "      <td>Jo Jung Suk, Yoo Yeon Seok, Jung Kyung Ho, Kim...</td>\n",
       "      <td>Egg Is Coming, CJ ENM</td>\n",
       "      <td>4</td>\n",
       "    </tr>\n",
       "    <tr>\n",
       "      <th>4</th>\n",
       "      <td>My Mister</td>\n",
       "      <td>Mar 21, 2018 - May 17, 2018</td>\n",
       "      <td>2018</td>\n",
       "      <td>tvN</td>\n",
       "      <td>Wednesday, Thursday</td>\n",
       "      <td>16</td>\n",
       "      <td>1 hr. 17 min.</td>\n",
       "      <td>15+ - Teens 15 or older</td>\n",
       "      <td>9.1</td>\n",
       "      <td>Park Dong Hoon is a middle-aged engineer who i...</td>\n",
       "      <td>Psychological,  Life,  Drama,  Family</td>\n",
       "      <td>Age Gap, Nice Male Lead, Strong Female Lead, H...</td>\n",
       "      <td>Kim Won Suk, Kim Sang Woo</td>\n",
       "      <td>Park Hae Young</td>\n",
       "      <td>Lee Sun Kyun, IU, Park Ho San, Song Sae Byuk, ...</td>\n",
       "      <td>Chorokbaem Media</td>\n",
       "      <td>5</td>\n",
       "    </tr>\n",
       "  </tbody>\n",
       "</table>\n",
       "</div>"
      ],
      "text/plain": [
       "                  Name                   Aired Date  Year of release  \\\n",
       "0       Move to Heaven                 May 14, 2021             2021   \n",
       "1       Flower of Evil  Jul 29, 2020 - Sep 23, 2020             2020   \n",
       "2    Hospital Playlist  Mar 12, 2020 - May 28, 2020             2020   \n",
       "3  Hospital Playlist 2  Jun 17, 2021 - Sep 16, 2021             2021   \n",
       "4            My Mister  Mar 21, 2018 - May 17, 2018             2018   \n",
       "\n",
       "  Original Network              Aired On  Number of Episodes       Duration  \\\n",
       "0          Netflix                Friday                  10        52 min.   \n",
       "1              tvN   Wednesday, Thursday                  16  1 hr. 10 min.   \n",
       "2   Netflix,  tvN               Thursday                  12  1 hr. 30 min.   \n",
       "3   Netflix,  tvN               Thursday                  12  1 hr. 40 min.   \n",
       "4              tvN   Wednesday, Thursday                  16  1 hr. 17 min.   \n",
       "\n",
       "                          Content Rating  Rating  \\\n",
       "0  18+ Restricted (violence & profanity)     9.2   \n",
       "1                15+ - Teens 15 or older     9.1   \n",
       "2                15+ - Teens 15 or older     9.1   \n",
       "3                15+ - Teens 15 or older     9.1   \n",
       "4                15+ - Teens 15 or older     9.1   \n",
       "\n",
       "                                            Synopsis  \\\n",
       "0  Geu Roo is a young autistic man. He works for ...   \n",
       "1  Although Baek Hee Sung is hiding a dark secret...   \n",
       "2  The stories of people going through their days...   \n",
       "3  Everyday is extraordinary for five doctors and...   \n",
       "4  Park Dong Hoon is a middle-aged engineer who i...   \n",
       "\n",
       "                                     Genre  \\\n",
       "0                   Life,  Drama,  Family    \n",
       "1  Thriller,  Romance,  Crime,  Melodrama    \n",
       "2   Friendship,  Romance,  Life,  Medical    \n",
       "3   Friendship,  Romance,  Life,  Medical    \n",
       "4   Psychological,  Life,  Drama,  Family    \n",
       "\n",
       "                                                Tags  \\\n",
       "0  Autism, Uncle-Nephew Relationship, Death, Sava...   \n",
       "1  Married Couple, Deception, Suspense, Family Se...   \n",
       "2  Strong Friendship, Multiple Mains, Best Friend...   \n",
       "3  Workplace, Strong Friendship, Best Friends, Mu...   \n",
       "4  Age Gap, Nice Male Lead, Strong Female Lead, H...   \n",
       "\n",
       "                     Director    Screenwriter  \\\n",
       "0                 Kim Sung Ho    Yoon Ji Ryun   \n",
       "1  Kim Chul Gyu, Yoon Jong Ho    Yoo Jung Hee   \n",
       "2                 Shin Won Ho    Lee Woo Jung   \n",
       "3                 Shin Won Ho    Lee Woo Jung   \n",
       "4   Kim Won Suk, Kim Sang Woo  Park Hae Young   \n",
       "\n",
       "                                                Cast  \\\n",
       "0  Lee Je Hoon, Tang Jun Sang, Hong Seung Hee, Ju...   \n",
       "1  Lee Joon Gi, Moon Chae Won, Jang Hee Jin, Seo ...   \n",
       "2  Jo Jung Suk, Yoo Yeon Seok, Jung Kyung Ho, Kim...   \n",
       "3  Jo Jung Suk, Yoo Yeon Seok, Jung Kyung Ho, Kim...   \n",
       "4  Lee Sun Kyun, IU, Park Ho San, Song Sae Byuk, ...   \n",
       "\n",
       "                   Production companies  Rank  \n",
       "0  Page One Film, Number Three Pictures     1  \n",
       "1                         Monster Union     2  \n",
       "2                 Egg Is Coming, CJ ENM     3  \n",
       "3                 Egg Is Coming, CJ ENM     4  \n",
       "4                      Chorokbaem Media     5  "
      ]
     },
     "execution_count": 4,
     "metadata": {},
     "output_type": "execute_result"
    }
   ],
   "source": [
    "df.head()"
   ]
  },
  {
   "cell_type": "code",
   "execution_count": 5,
   "id": "667dab17",
   "metadata": {},
   "outputs": [
    {
     "name": "stdout",
     "output_type": "stream",
     "text": [
      "<class 'pandas.core.frame.DataFrame'>\n",
      "RangeIndex: 250 entries, 0 to 249\n",
      "Data columns (total 17 columns):\n",
      " #   Column                Non-Null Count  Dtype  \n",
      "---  ------                --------------  -----  \n",
      " 0   Name                  250 non-null    object \n",
      " 1   Aired Date            250 non-null    object \n",
      " 2   Year of release       250 non-null    int64  \n",
      " 3   Original Network      250 non-null    object \n",
      " 4   Aired On              250 non-null    object \n",
      " 5   Number of Episodes    250 non-null    int64  \n",
      " 6   Duration              250 non-null    object \n",
      " 7   Content Rating        245 non-null    object \n",
      " 8   Rating                250 non-null    float64\n",
      " 9   Synopsis              250 non-null    object \n",
      " 10  Genre                 250 non-null    object \n",
      " 11  Tags                  250 non-null    object \n",
      " 12  Director              249 non-null    object \n",
      " 13  Screenwriter          249 non-null    object \n",
      " 14  Cast                  250 non-null    object \n",
      " 15  Production companies  248 non-null    object \n",
      " 16  Rank                  250 non-null    int32  \n",
      "dtypes: float64(1), int32(1), int64(2), object(13)\n",
      "memory usage: 32.4+ KB\n"
     ]
    }
   ],
   "source": [
    "df.info()"
   ]
  },
  {
   "cell_type": "code",
   "execution_count": 12,
   "id": "fdbad3d2",
   "metadata": {},
   "outputs": [
    {
     "data": {
      "text/plain": [
       "(242, 17)"
      ]
     },
     "execution_count": 12,
     "metadata": {},
     "output_type": "execute_result"
    }
   ],
   "source": [
    "df.shape"
   ]
  },
  {
   "cell_type": "code",
   "execution_count": 8,
   "id": "b62f22fe",
   "metadata": {},
   "outputs": [
    {
     "data": {
      "text/plain": [
       "<bound method NDFrame.describe of                        Name                   Aired Date  Year of release  \\\n",
       "0            Move to Heaven                 May 14, 2021             2021   \n",
       "1            Flower of Evil  Jul 29, 2020 - Sep 23, 2020             2020   \n",
       "2         Hospital Playlist  Mar 12, 2020 - May 28, 2020             2020   \n",
       "3       Hospital Playlist 2  Jun 17, 2021 - Sep 16, 2021             2021   \n",
       "4                 My Mister  Mar 21, 2018 - May 17, 2018             2018   \n",
       "..                      ...                          ...              ...   \n",
       "245    Live Up to Your Name   Aug 12, 2017 - Oct 1, 2017             2017   \n",
       "246    Queen for Seven Days   May 31, 2017 - Aug 3, 2017             2017   \n",
       "247                  Memory   Mar 18, 2016 - May 7, 2016             2016   \n",
       "248        A Korean Odyssey   Dec 23, 2017 - Mar 4, 2018             2017   \n",
       "249  Voice 4: Judgment Hour  Jun 18, 2021 - Jul 31, 2021             2021   \n",
       "\n",
       "    Original Network              Aired On  Number of Episodes       Duration  \\\n",
       "0            Netflix                Friday                  10        52 min.   \n",
       "1                tvN   Wednesday, Thursday                  16  1 hr. 10 min.   \n",
       "2     Netflix,  tvN               Thursday                  12  1 hr. 30 min.   \n",
       "3     Netflix,  tvN               Thursday                  12  1 hr. 40 min.   \n",
       "4                tvN   Wednesday, Thursday                  16  1 hr. 17 min.   \n",
       "..               ...                   ...                 ...            ...   \n",
       "245              tvN      Saturday, Sunday                  16  1 hr. 10 min.   \n",
       "246             KBS2   Wednesday, Thursday                  20        60 min.   \n",
       "247              tvN      Friday, Saturday                  16   1 hr. 5 min.   \n",
       "248     Netflix, tvN      Saturday, Sunday                  20  1 hr. 20 min.   \n",
       "249              tvN      Friday, Saturday                  14   1 hr. 3 min.   \n",
       "\n",
       "                            Content Rating  Rating  \\\n",
       "0    18+ Restricted (violence & profanity)     9.2   \n",
       "1                  15+ - Teens 15 or older     9.1   \n",
       "2                  15+ - Teens 15 or older     9.1   \n",
       "3                  15+ - Teens 15 or older     9.1   \n",
       "4                  15+ - Teens 15 or older     9.1   \n",
       "..                                     ...     ...   \n",
       "245                15+ - Teens 15 or older     8.3   \n",
       "246                15+ - Teens 15 or older     8.3   \n",
       "247                15+ - Teens 15 or older     8.3   \n",
       "248                15+ - Teens 15 or older     8.3   \n",
       "249                15+ - Teens 15 or older     8.3   \n",
       "\n",
       "                                              Synopsis  \\\n",
       "0    Geu Roo is a young autistic man. He works for ...   \n",
       "1    Although Baek Hee Sung is hiding a dark secret...   \n",
       "2    The stories of people going through their days...   \n",
       "3    Everyday is extraordinary for five doctors and...   \n",
       "4    Park Dong Hoon is a middle-aged engineer who i...   \n",
       "..                                                 ...   \n",
       "245  Heo Im, who is born in a concubine family in t...   \n",
       "246  This drama is about the love story between Kin...   \n",
       "247  Park Tae Suk is a lawyer who finds out that he...   \n",
       "248  In 2017, Son Oh Gong and Ma Wang are in confli...   \n",
       "249  A serial killer with an enhanced hearing abili...   \n",
       "\n",
       "                                         Genre  \\\n",
       "0                       Life,  Drama,  Family    \n",
       "1      Thriller,  Romance,  Crime,  Melodrama    \n",
       "2       Friendship,  Romance,  Life,  Medical    \n",
       "3       Friendship,  Romance,  Life,  Medical    \n",
       "4       Psychological,  Life,  Drama,  Family    \n",
       "..                                         ...   \n",
       "245      Historical, Romance, Medical, Fantasy   \n",
       "246  Historical, Romance, Melodrama, Political   \n",
       "247                  Law, Romance, Life, Drama   \n",
       "248           Horror, Comedy, Romance, Fantasy   \n",
       "249           Action, Thriller, Mystery, Crime   \n",
       "\n",
       "                                                  Tags  \\\n",
       "0    Autism, Uncle-Nephew Relationship, Death, Sava...   \n",
       "1    Married Couple, Deception, Suspense, Family Se...   \n",
       "2    Strong Friendship, Multiple Mains, Best Friend...   \n",
       "3    Workplace, Strong Friendship, Best Friends, Mu...   \n",
       "4    Age Gap, Nice Male Lead, Strong Female Lead, H...   \n",
       "..                                                 ...   \n",
       "245  Time Travel, Joseon Dynasty, Acupuncture, Stro...   \n",
       "246  Joseon Dynasty, Sibling Rivalry, Lying, Reveng...   \n",
       "247  Alzheimer's Disease, Teamwork, Bromance, Mothe...   \n",
       "248  Ghost-seeing Female Lead, Special Power, Super...   \n",
       "249  Investigation, Suspense, Animal Abuse, Psychol...   \n",
       "\n",
       "                                         Director                Screenwriter  \\\n",
       "0                                     Kim Sung Ho                Yoon Ji Ryun   \n",
       "1                      Kim Chul Gyu, Yoon Jong Ho                Yoo Jung Hee   \n",
       "2                                     Shin Won Ho                Lee Woo Jung   \n",
       "3                                     Shin Won Ho                Lee Woo Jung   \n",
       "4                       Kim Won Suk, Kim Sang Woo              Park Hae Young   \n",
       "..                                            ...                         ...   \n",
       "245                                Hong Jong Chan                 Kim Eun Hee   \n",
       "246                                  Lee Jung Sub              Choi Jin Young   \n",
       "247                                Park Chan Hong                  Kim Ji Woo   \n",
       "248  Park Hong Kyun, Kim Jung Hyun, Kim Byung Soo  Hong Jung Eun, Hong Mi Ran   \n",
       "249                  Shin Yong Hwi, Yoon Ra Young                  Ma Jin Won   \n",
       "\n",
       "                                                  Cast  \\\n",
       "0    Lee Je Hoon, Tang Jun Sang, Hong Seung Hee, Ju...   \n",
       "1    Lee Joon Gi, Moon Chae Won, Jang Hee Jin, Seo ...   \n",
       "2    Jo Jung Suk, Yoo Yeon Seok, Jung Kyung Ho, Kim...   \n",
       "3    Jo Jung Suk, Yoo Yeon Seok, Jung Kyung Ho, Kim...   \n",
       "4    Lee Sun Kyun, IU, Park Ho San, Song Sae Byuk, ...   \n",
       "..                                                 ...   \n",
       "245  Kim Nam Gil, Kim Ah Joong, Yoo Min Kyu, Moon G...   \n",
       "246  Park Min Young, Yeon Woo Jin, Lee Dong Gun, Ja...   \n",
       "247  Lee Sung Min, Kim Jee Soo, Park Jin Hee, Lee J...   \n",
       "248  Lee Seung Gi, Cha Seung Won, Oh Yeon Seo, Lee ...   \n",
       "249  Lee  Ha Na, Song Seung Heon, Son Eun Seo, Kang...   \n",
       "\n",
       "                      Production companies  Rank  \n",
       "0     Page One Film, Number Three Pictures     1  \n",
       "1                            Monster Union     2  \n",
       "2                    Egg Is Coming, CJ ENM     3  \n",
       "3                    Egg Is Coming, CJ ENM     4  \n",
       "4                         Chorokbaem Media     5  \n",
       "..                                     ...   ...  \n",
       "245                  Bon Factory Worldwide   246  \n",
       "246  Monster Union, OH!BROTHERS Production   247  \n",
       "247                                MI Inc.   248  \n",
       "248                            JS Pictures   249  \n",
       "249                 Story & Pictures Media   250  \n",
       "\n",
       "[250 rows x 17 columns]>"
      ]
     },
     "execution_count": 8,
     "metadata": {},
     "output_type": "execute_result"
    }
   ],
   "source": [
    "df.describe\n"
   ]
  },
  {
   "cell_type": "code",
   "execution_count": 9,
   "id": "fa27c29e",
   "metadata": {},
   "outputs": [
    {
     "data": {
      "text/plain": [
       "Name                    0\n",
       "Aired Date              0\n",
       "Year of release         0\n",
       "Original Network        0\n",
       "Aired On                0\n",
       "Number of Episodes      0\n",
       "Duration                0\n",
       "Content Rating          5\n",
       "Rating                  0\n",
       "Synopsis                0\n",
       "Genre                   0\n",
       "Tags                    0\n",
       "Director                1\n",
       "Screenwriter            1\n",
       "Cast                    0\n",
       "Production companies    2\n",
       "Rank                    0\n",
       "dtype: int64"
      ]
     },
     "execution_count": 9,
     "metadata": {},
     "output_type": "execute_result"
    }
   ],
   "source": [
    "df.isnull().sum()"
   ]
  },
  {
   "cell_type": "code",
   "execution_count": 10,
   "id": "e08aeab4",
   "metadata": {},
   "outputs": [],
   "source": [
    "df.dropna(inplace=True)"
   ]
  },
  {
   "cell_type": "code",
   "execution_count": 11,
   "id": "05f7ecab",
   "metadata": {},
   "outputs": [
    {
     "data": {
      "text/plain": [
       "Name                    0\n",
       "Aired Date              0\n",
       "Year of release         0\n",
       "Original Network        0\n",
       "Aired On                0\n",
       "Number of Episodes      0\n",
       "Duration                0\n",
       "Content Rating          0\n",
       "Rating                  0\n",
       "Synopsis                0\n",
       "Genre                   0\n",
       "Tags                    0\n",
       "Director                0\n",
       "Screenwriter            0\n",
       "Cast                    0\n",
       "Production companies    0\n",
       "Rank                    0\n",
       "dtype: int64"
      ]
     },
     "execution_count": 11,
     "metadata": {},
     "output_type": "execute_result"
    }
   ],
   "source": [
    "df.isnull().sum()"
   ]
  },
  {
   "cell_type": "code",
   "execution_count": 13,
   "id": "d1c10056",
   "metadata": {},
   "outputs": [
    {
     "data": {
      "text/plain": [
       "(242, 17)"
      ]
     },
     "execution_count": 13,
     "metadata": {},
     "output_type": "execute_result"
    }
   ],
   "source": [
    "df.shape"
   ]
  },
  {
   "cell_type": "code",
   "execution_count": 14,
   "id": "09d87d27",
   "metadata": {},
   "outputs": [
    {
     "data": {
      "text/html": [
       "<div>\n",
       "<style scoped>\n",
       "    .dataframe tbody tr th:only-of-type {\n",
       "        vertical-align: middle;\n",
       "    }\n",
       "\n",
       "    .dataframe tbody tr th {\n",
       "        vertical-align: top;\n",
       "    }\n",
       "\n",
       "    .dataframe thead th {\n",
       "        text-align: right;\n",
       "    }\n",
       "</style>\n",
       "<table border=\"1\" class=\"dataframe\">\n",
       "  <thead>\n",
       "    <tr style=\"text-align: right;\">\n",
       "      <th></th>\n",
       "      <th>Name</th>\n",
       "      <th>Aired Date</th>\n",
       "      <th>Year of release</th>\n",
       "      <th>Original Network</th>\n",
       "      <th>Aired On</th>\n",
       "      <th>Number of Episodes</th>\n",
       "      <th>Duration</th>\n",
       "      <th>Content Rating</th>\n",
       "      <th>Rating</th>\n",
       "      <th>Synopsis</th>\n",
       "      <th>Genre</th>\n",
       "      <th>Tags</th>\n",
       "      <th>Director</th>\n",
       "      <th>Screenwriter</th>\n",
       "      <th>Cast</th>\n",
       "      <th>Production companies</th>\n",
       "      <th>Rank</th>\n",
       "    </tr>\n",
       "  </thead>\n",
       "  <tbody>\n",
       "    <tr>\n",
       "      <th>0</th>\n",
       "      <td>Move to Heaven</td>\n",
       "      <td>May 14, 2021</td>\n",
       "      <td>2021</td>\n",
       "      <td>Netflix</td>\n",
       "      <td>Friday</td>\n",
       "      <td>10</td>\n",
       "      <td>52 min.</td>\n",
       "      <td>18+ Restricted (violence &amp; profanity)</td>\n",
       "      <td>9.2</td>\n",
       "      <td>Geu Roo is a young autistic man. He works for ...</td>\n",
       "      <td>Life,  Drama,  Family</td>\n",
       "      <td>Autism, Uncle-Nephew Relationship, Death, Sava...</td>\n",
       "      <td>Kim Sung Ho</td>\n",
       "      <td>Yoon Ji Ryun</td>\n",
       "      <td>Lee Je Hoon, Tang Jun Sang, Hong Seung Hee, Ju...</td>\n",
       "      <td>Page One Film, Number Three Pictures</td>\n",
       "      <td>1</td>\n",
       "    </tr>\n",
       "    <tr>\n",
       "      <th>1</th>\n",
       "      <td>Flower of Evil</td>\n",
       "      <td>Jul 29, 2020 - Sep 23, 2020</td>\n",
       "      <td>2020</td>\n",
       "      <td>tvN</td>\n",
       "      <td>Wednesday, Thursday</td>\n",
       "      <td>16</td>\n",
       "      <td>1 hr. 10 min.</td>\n",
       "      <td>15+ - Teens 15 or older</td>\n",
       "      <td>9.1</td>\n",
       "      <td>Although Baek Hee Sung is hiding a dark secret...</td>\n",
       "      <td>Thriller,  Romance,  Crime,  Melodrama</td>\n",
       "      <td>Married Couple, Deception, Suspense, Family Se...</td>\n",
       "      <td>Kim Chul Gyu, Yoon Jong Ho</td>\n",
       "      <td>Yoo Jung Hee</td>\n",
       "      <td>Lee Joon Gi, Moon Chae Won, Jang Hee Jin, Seo ...</td>\n",
       "      <td>Monster Union</td>\n",
       "      <td>2</td>\n",
       "    </tr>\n",
       "    <tr>\n",
       "      <th>2</th>\n",
       "      <td>Hospital Playlist</td>\n",
       "      <td>Mar 12, 2020 - May 28, 2020</td>\n",
       "      <td>2020</td>\n",
       "      <td>Netflix,  tvN</td>\n",
       "      <td>Thursday</td>\n",
       "      <td>12</td>\n",
       "      <td>1 hr. 30 min.</td>\n",
       "      <td>15+ - Teens 15 or older</td>\n",
       "      <td>9.1</td>\n",
       "      <td>The stories of people going through their days...</td>\n",
       "      <td>Friendship,  Romance,  Life,  Medical</td>\n",
       "      <td>Strong Friendship, Multiple Mains, Best Friend...</td>\n",
       "      <td>Shin Won Ho</td>\n",
       "      <td>Lee Woo Jung</td>\n",
       "      <td>Jo Jung Suk, Yoo Yeon Seok, Jung Kyung Ho, Kim...</td>\n",
       "      <td>Egg Is Coming, CJ ENM</td>\n",
       "      <td>3</td>\n",
       "    </tr>\n",
       "    <tr>\n",
       "      <th>3</th>\n",
       "      <td>Hospital Playlist 2</td>\n",
       "      <td>Jun 17, 2021 - Sep 16, 2021</td>\n",
       "      <td>2021</td>\n",
       "      <td>Netflix,  tvN</td>\n",
       "      <td>Thursday</td>\n",
       "      <td>12</td>\n",
       "      <td>1 hr. 40 min.</td>\n",
       "      <td>15+ - Teens 15 or older</td>\n",
       "      <td>9.1</td>\n",
       "      <td>Everyday is extraordinary for five doctors and...</td>\n",
       "      <td>Friendship,  Romance,  Life,  Medical</td>\n",
       "      <td>Workplace, Strong Friendship, Best Friends, Mu...</td>\n",
       "      <td>Shin Won Ho</td>\n",
       "      <td>Lee Woo Jung</td>\n",
       "      <td>Jo Jung Suk, Yoo Yeon Seok, Jung Kyung Ho, Kim...</td>\n",
       "      <td>Egg Is Coming, CJ ENM</td>\n",
       "      <td>4</td>\n",
       "    </tr>\n",
       "    <tr>\n",
       "      <th>4</th>\n",
       "      <td>My Mister</td>\n",
       "      <td>Mar 21, 2018 - May 17, 2018</td>\n",
       "      <td>2018</td>\n",
       "      <td>tvN</td>\n",
       "      <td>Wednesday, Thursday</td>\n",
       "      <td>16</td>\n",
       "      <td>1 hr. 17 min.</td>\n",
       "      <td>15+ - Teens 15 or older</td>\n",
       "      <td>9.1</td>\n",
       "      <td>Park Dong Hoon is a middle-aged engineer who i...</td>\n",
       "      <td>Psychological,  Life,  Drama,  Family</td>\n",
       "      <td>Age Gap, Nice Male Lead, Strong Female Lead, H...</td>\n",
       "      <td>Kim Won Suk, Kim Sang Woo</td>\n",
       "      <td>Park Hae Young</td>\n",
       "      <td>Lee Sun Kyun, IU, Park Ho San, Song Sae Byuk, ...</td>\n",
       "      <td>Chorokbaem Media</td>\n",
       "      <td>5</td>\n",
       "    </tr>\n",
       "  </tbody>\n",
       "</table>\n",
       "</div>"
      ],
      "text/plain": [
       "                  Name                   Aired Date  Year of release  \\\n",
       "0       Move to Heaven                 May 14, 2021             2021   \n",
       "1       Flower of Evil  Jul 29, 2020 - Sep 23, 2020             2020   \n",
       "2    Hospital Playlist  Mar 12, 2020 - May 28, 2020             2020   \n",
       "3  Hospital Playlist 2  Jun 17, 2021 - Sep 16, 2021             2021   \n",
       "4            My Mister  Mar 21, 2018 - May 17, 2018             2018   \n",
       "\n",
       "  Original Network              Aired On  Number of Episodes       Duration  \\\n",
       "0          Netflix                Friday                  10        52 min.   \n",
       "1              tvN   Wednesday, Thursday                  16  1 hr. 10 min.   \n",
       "2   Netflix,  tvN               Thursday                  12  1 hr. 30 min.   \n",
       "3   Netflix,  tvN               Thursday                  12  1 hr. 40 min.   \n",
       "4              tvN   Wednesday, Thursday                  16  1 hr. 17 min.   \n",
       "\n",
       "                          Content Rating  Rating  \\\n",
       "0  18+ Restricted (violence & profanity)     9.2   \n",
       "1                15+ - Teens 15 or older     9.1   \n",
       "2                15+ - Teens 15 or older     9.1   \n",
       "3                15+ - Teens 15 or older     9.1   \n",
       "4                15+ - Teens 15 or older     9.1   \n",
       "\n",
       "                                            Synopsis  \\\n",
       "0  Geu Roo is a young autistic man. He works for ...   \n",
       "1  Although Baek Hee Sung is hiding a dark secret...   \n",
       "2  The stories of people going through their days...   \n",
       "3  Everyday is extraordinary for five doctors and...   \n",
       "4  Park Dong Hoon is a middle-aged engineer who i...   \n",
       "\n",
       "                                     Genre  \\\n",
       "0                   Life,  Drama,  Family    \n",
       "1  Thriller,  Romance,  Crime,  Melodrama    \n",
       "2   Friendship,  Romance,  Life,  Medical    \n",
       "3   Friendship,  Romance,  Life,  Medical    \n",
       "4   Psychological,  Life,  Drama,  Family    \n",
       "\n",
       "                                                Tags  \\\n",
       "0  Autism, Uncle-Nephew Relationship, Death, Sava...   \n",
       "1  Married Couple, Deception, Suspense, Family Se...   \n",
       "2  Strong Friendship, Multiple Mains, Best Friend...   \n",
       "3  Workplace, Strong Friendship, Best Friends, Mu...   \n",
       "4  Age Gap, Nice Male Lead, Strong Female Lead, H...   \n",
       "\n",
       "                     Director    Screenwriter  \\\n",
       "0                 Kim Sung Ho    Yoon Ji Ryun   \n",
       "1  Kim Chul Gyu, Yoon Jong Ho    Yoo Jung Hee   \n",
       "2                 Shin Won Ho    Lee Woo Jung   \n",
       "3                 Shin Won Ho    Lee Woo Jung   \n",
       "4   Kim Won Suk, Kim Sang Woo  Park Hae Young   \n",
       "\n",
       "                                                Cast  \\\n",
       "0  Lee Je Hoon, Tang Jun Sang, Hong Seung Hee, Ju...   \n",
       "1  Lee Joon Gi, Moon Chae Won, Jang Hee Jin, Seo ...   \n",
       "2  Jo Jung Suk, Yoo Yeon Seok, Jung Kyung Ho, Kim...   \n",
       "3  Jo Jung Suk, Yoo Yeon Seok, Jung Kyung Ho, Kim...   \n",
       "4  Lee Sun Kyun, IU, Park Ho San, Song Sae Byuk, ...   \n",
       "\n",
       "                   Production companies  Rank  \n",
       "0  Page One Film, Number Three Pictures     1  \n",
       "1                         Monster Union     2  \n",
       "2                 Egg Is Coming, CJ ENM     3  \n",
       "3                 Egg Is Coming, CJ ENM     4  \n",
       "4                      Chorokbaem Media     5  "
      ]
     },
     "execution_count": 14,
     "metadata": {},
     "output_type": "execute_result"
    }
   ],
   "source": [
    "df.head()"
   ]
  },
  {
   "cell_type": "code",
   "execution_count": 15,
   "id": "e83e4f3e",
   "metadata": {},
   "outputs": [
    {
     "name": "stdout",
     "output_type": "stream",
     "text": [
      "['Name', 'Original Network', 'Synopsis', 'Genre', 'Tags', 'Director', 'Cast']\n"
     ]
    }
   ],
   "source": [
    "# selecting only the relevant columns\n",
    "selected_feature = ['Name', 'Original Network', 'Synopsis', 'Genre', 'Tags', 'Director', 'Cast']\n",
    "print(selected_feature)"
   ]
  },
  {
   "cell_type": "code",
   "execution_count": 16,
   "id": "d4ff6d57",
   "metadata": {},
   "outputs": [],
   "source": [
    "# replacing the null values with empty string\n",
    "for feature in selected_feature:\n",
    "    df[feature] = df[feature].fillna('')"
   ]
  },
  {
   "cell_type": "code",
   "execution_count": 17,
   "id": "d0061446",
   "metadata": {},
   "outputs": [],
   "source": [
    "# combine all seleceted features\n",
    "combined_features = df['Name'] + ' ' + df['Original Network'] + ' ' + df['Synopsis'] + ' ' + df['Genre'] + ' ' + df['Tags'] + ' ' + df['Director'] + ' ' + df['Cast']\n"
   ]
  },
  {
   "cell_type": "code",
   "execution_count": 18,
   "id": "fb41307d",
   "metadata": {},
   "outputs": [
    {
     "name": "stdout",
     "output_type": "stream",
     "text": [
      "0      Move to Heaven Netflix Geu Roo is a young auti...\n",
      "1      Flower of Evil tvN Although Baek Hee Sung is h...\n",
      "2      Hospital Playlist Netflix,  tvN  The stories o...\n",
      "3      Hospital Playlist 2 Netflix,  tvN  Everyday is...\n",
      "4      My Mister tvN Park Dong Hoon is a middle-aged ...\n",
      "                             ...                        \n",
      "245    Live Up to Your Name tvN Heo Im, who is born i...\n",
      "246    Queen for Seven Days KBS2 This drama is about ...\n",
      "247    Memory tvN Park Tae Suk is a lawyer who finds ...\n",
      "248    A Korean Odyssey Netflix, tvN In 2017, Son Oh ...\n",
      "249    Voice 4: Judgment Hour tvN A serial killer wit...\n",
      "Length: 242, dtype: object\n"
     ]
    }
   ],
   "source": [
    "print(combined_features)"
   ]
  },
  {
   "cell_type": "code",
   "execution_count": 19,
   "id": "0cb1e5b0",
   "metadata": {},
   "outputs": [],
   "source": [
    "# converting text data to feature vectors\n",
    "vectorizer = TfidfVectorizer()"
   ]
  },
  {
   "cell_type": "code",
   "execution_count": 20,
   "id": "f33fe0db",
   "metadata": {},
   "outputs": [],
   "source": [
    "feature_vectors = vectorizer.fit_transform(combined_features)"
   ]
  },
  {
   "cell_type": "code",
   "execution_count": 21,
   "id": "482c76df",
   "metadata": {},
   "outputs": [
    {
     "name": "stdout",
     "output_type": "stream",
     "text": [
      "  (0, 3589)\t0.06477300380338889\n",
      "  (0, 2596)\t0.05922876083126429\n",
      "  (0, 2204)\t0.04147361281555975\n",
      "  (0, 4464)\t0.05922876083126429\n",
      "  (0, 3862)\t0.047161147834646484\n",
      "  (0, 2222)\t0.058811999637883895\n",
      "  (0, 1881)\t0.034319634744705035\n",
      "  (0, 3559)\t0.04564628973053441\n",
      "  (0, 1947)\t0.049261267281165456\n",
      "  (0, 2221)\t0.05771390272715222\n",
      "  (0, 3946)\t0.09391674171700563\n",
      "  (0, 1950)\t0.04425275536078433\n",
      "  (0, 2181)\t0.0712963738278821\n",
      "  (0, 2331)\t0.04585456400012656\n",
      "  (0, 1933)\t0.03787648240685613\n",
      "  (0, 3866)\t0.03590344298022872\n",
      "  (0, 2258)\t0.021601977183709493\n",
      "  (0, 2811)\t0.1009758427932423\n",
      "  (0, 224)\t0.018827318063229785\n",
      "  (0, 734)\t0.1009758427932423\n",
      "  (0, 865)\t0.08184912872038781\n",
      "  (0, 1400)\t0.06838798135401994\n",
      "  (0, 2339)\t0.08502332613478535\n",
      "  (0, 3695)\t0.04564628973053441\n",
      "  (0, 3960)\t0.0712963738278821\n",
      "  :\t:\n",
      "  (241, 1900)\t0.037373780115178036\n",
      "  (241, 1630)\t0.07252451448559483\n",
      "  (241, 3545)\t0.1375294811365035\n",
      "  (241, 1071)\t0.061539653248492206\n",
      "  (241, 1843)\t0.0413469460887678\n",
      "  (241, 365)\t0.07254672118989446\n",
      "  (241, 4145)\t0.044583014576813566\n",
      "  (241, 2204)\t0.1482444657662199\n",
      "  (241, 4464)\t0.0705696579209986\n",
      "  (241, 3559)\t0.10877293417714896\n",
      "  (241, 2331)\t0.02731731046023637\n",
      "  (241, 3866)\t0.042778097224066725\n",
      "  (241, 2258)\t0.025738241335397104\n",
      "  (241, 224)\t0.04486460215087376\n",
      "  (241, 3695)\t0.05438646708857448\n",
      "  (241, 999)\t0.10237769606958286\n",
      "  (241, 396)\t0.06964757439123394\n",
      "  (241, 4370)\t0.031887565902912404\n",
      "  (241, 2759)\t0.09548027156215419\n",
      "  (241, 255)\t0.07994539499414596\n",
      "  (241, 569)\t0.040891027431879404\n",
      "  (241, 2911)\t0.053539677521135205\n",
      "  (241, 4472)\t0.034532633852375934\n",
      "  (241, 2162)\t0.052800645957221545\n",
      "  (241, 4051)\t0.07101752879621798\n"
     ]
    }
   ],
   "source": [
    "print(feature_vectors)"
   ]
  },
  {
   "cell_type": "code",
   "execution_count": 22,
   "id": "c1c70d57",
   "metadata": {},
   "outputs": [
    {
     "name": "stdout",
     "output_type": "stream",
     "text": [
      "[[1.         0.08033645 0.05553314 ... 0.11657191 0.06071648 0.05802335]\n",
      " [0.08033645 1.         0.05332572 ... 0.10320595 0.12657398 0.12086021]\n",
      " [0.05553314 0.05332572 1.         ... 0.0814387  0.09708386 0.07007628]\n",
      " ...\n",
      " [0.11657191 0.10320595 0.0814387  ... 1.         0.09007262 0.06347431]\n",
      " [0.06071648 0.12657398 0.09708386 ... 0.09007262 1.         0.0870322 ]\n",
      " [0.05802335 0.12086021 0.07007628 ... 0.06347431 0.0870322  1.        ]]\n"
     ]
    }
   ],
   "source": [
    "# getting the similarity scores\n",
    "similarity = cosine_similarity(feature_vectors)\n",
    "print(similarity)"
   ]
  },
  {
   "cell_type": "code",
   "execution_count": 23,
   "id": "df40337a",
   "metadata": {},
   "outputs": [
    {
     "name": "stdout",
     "output_type": "stream",
     "text": [
      "(242, 242)\n"
     ]
    }
   ],
   "source": [
    "print(similarity.shape)"
   ]
  },
  {
   "cell_type": "code",
   "execution_count": 32,
   "id": "4d2b2530",
   "metadata": {},
   "outputs": [
    {
     "name": "stdout",
     "output_type": "stream",
     "text": [
      "Enter the name of the movie you want to search: Crazy Love\n"
     ]
    }
   ],
   "source": [
    "kdrame_name = input(\"Enter the name of the movie you want to search: \")"
   ]
  },
  {
   "cell_type": "code",
   "execution_count": 33,
   "id": "aa5c814f",
   "metadata": {},
   "outputs": [
    {
     "name": "stdout",
     "output_type": "stream",
     "text": [
      "['Move to Heaven', 'Flower of Evil', 'Hospital Playlist', 'Hospital Playlist 2', 'My Mister', 'Reply 1988', 'Weak Hero Class 1', 'Prison Playbook', 'Alchemy of Souls', 'Extraordinary Attorney Woo', 'Mr. Queen', 'Mother', \"It's Okay to Not Be Okay\", 'Crash Landing on You', 'Vincenzo', 'Navillera', 'Signal', 'Mr. Sunshine', 'Happiness', 'Kingdom: Season 2', 'SKY Castle', 'Tomorrow', 'Healer', 'Stranger', 'Twenty-Five Twenty-One', 'The Red Sleeve', 'Goblin', 'The Uncanny Counter', 'Mouse', 'Kingdom', 'Weightlifting Fairy Kim Bok Joo', 'D.P.', 'The Devil Judge', 'The Penthouse', 'Youth of May', 'Taxi Driver', 'Life on Mars', 'Beyond Evil', 'Racket Boys', 'Hometown Cha-Cha-Cha', 'Six Flying Dragons', 'Our Beloved Summer', 'The Guest', 'Dear My Friends', 'While You Were Sleeping', 'The Penthouse 2', 'Chicago Typewriter', '18 Again', 'Arthdal Chronicles Part 2', 'Arthdal Chronicles Part 3', 'Through the Darkness', 'Dr. Romantic 2', 'Defendant', 'Our Blues', 'Sweet Home', 'Kill Me, Heal Me', 'Moon Lovers', 'A Business Proposal', 'Misaeng', 'Strong Woman Do Bong Soon', 'The Fiery Priest', 'My Name', 'Hotel del Luna', 'Hot Stove League', 'Dr. Romantic', 'Descendants of the Sun', 'Law School', 'Strangers from Hell', 'Live', 'Tunnel', 'My Liberation Notes', 'Partners for Justice 2', 'Jewel in the Palace', \"It's Okay, That's Love\", 'Little Women', 'Ghost Doctor', 'Eulachacha Waikiki', 'The Bridal Mask', 'Children of Nobody', 'Good Manager', 'The King of Pigs', 'Big Mouth', 'Go Back Couple', 'Empress Ki', 'My Father is Strange', 'Once Again', 'Missing', 'Stranger 2', 'Designated Survivor', 'Juvenile Justice', 'Cruel City', 'My Love from the Star', 'Mystic Pop-Up Bar', 'Age of Youth', 'Just Between Lovers', 'Save Me', 'Bad and Crazy', '365', \"The Master's Sun\", 'Avengers Social Club', 'Rebel', 'Nobody Knows', 'Bad Guys', 'Beautiful World', 'Arthdal Chronicles Part 1', 'Kairos', 'I Hear Your Voice', \"What's Wrong with Secretary Kim\", 'Vagabond', 'One Ordinary Day', 'Reply 1997', 'Doctor John', 'Hi Bye, Mama!', 'Voice', 'Fight For My Way', 'Squid Game', 'W', 'Queen Seon Duk', 'Mad for Each Other', 'Dali and the Cocky Prince', 'Thirty But Seventeen', 'When the Camellia Blooms', 'Be Melodramatic', 'Itaewon Class', 'Snowdrop', 'Circle', 'Because This Is My First Life', \"The Princess's Man\", 'Blind', 'Two Weeks', 'Work Later, Drink Now', 'Dong Yi', 'Gaus Electronics', \"Angel's Last Mission: Love\", 'The World of the Married', 'All of Us Are Dead', 'Extracurricular', \"Yumi's Cells\", 'Lost', \"Queen In Hyun's Man\", 'If You Wish Upon Me', \"I'm Not a Robot\", 'Memorist', 'Voice 2', 'Doom at Your Service', 'Search: WWW', 'From Now On, Showtime!', 'Hello Monster', 'Moon Embracing the Sun', 'Train', 'Sh**ting Stars', 'The Crowned Clown', 'Mad Dog', 'Birthcare Center', 'Nine: Nine Times Time Travel', 'Extraordinary You', 'Pinocchio', 'Doctor Prisoner', 'Love All Play', 'My Unfamiliar Family', 'Her Private Life', 'Age of Youth 2', 'Secret', 'Military Prosecutor Doberman', 'Pachinko', 'My Roommate Is a Gumiho', \"Yumi's Cells 2\", 'My Country: The New Age', 'Sell Your Haunted House', 'The Legend of the Blue Sea', 'Come and Hug Me', 'Partners for Justice', 'Seasons of Blossom', 'The Tale of Nokdu', 'Psychopath Diary', 'The Beauty Inside', 'Tale of the Nine-Tailed', 'The Good Detective', 'He Is Psychometric', 'One Spring Night', 'Soundtrack #1', 'City Hunter', 'Class of Lies', '100 Days My Prince', 'At a Distance, Spring Is Green', 'Lie After Lie', 'The Sound of Magic', 'Good Doctor', 'Rookie Cops', 'True Beauty', 'Oh My Ghost', \"God's Gift: 14 Days\", 'The Sound of Your Heart', 'The Veil', 'Graceful Family', 'Gu Family Book', 'The Hymn of Death', 'Jumong', 'Vampire Prosecutor 2', 'Ugly Alert', 'Misty', 'Voice 3: City of Accomplices', 'Confession', 'Again My Life', 'Money Heist: Korea - Joint Economic Area - Part 1', 'Are You Human Too?', 'Run On', 'The Smile Has Left Your Eyes', 'Team Bulldog: Off-duty Investigation', 'The Guardians', 'Terius Behind Me', 'Hyena', 'Touch Your Heart', 'Welcome 2 Life', 'Suspicious Partner', 'Mine', 'When the Weather Is Fine', 'Lawless Lawyer', 'Crazy Love', 'WATCHER', 'Five Enough', 'Amanza', 'Light on Me', 'Bulgasal: Immortal Souls', 'Tree With Deep Roots', '49 Days', 'D-Day', 'Awaken', 'Oh My Venus', 'Leverage', \"The King's Affection\", \"A Gentleman's Dignity\", 'Rookie Historian Goo Hae Ryung', 'Ghost', 'Love Playlist: Season 4', \"God's Quiz: Reboot\", 'Missing Noir M', 'Live Up to Your Name', 'Queen for Seven Days', 'Memory', 'A Korean Odyssey', 'Voice 4: Judgment Hour']\n"
     ]
    }
   ],
   "source": [
    "# creating list all the names\n",
    "list_all_kdrama = df['Name'].tolist()\n",
    "print(list_all_kdrama)"
   ]
  },
  {
   "cell_type": "code",
   "execution_count": 34,
   "id": "fb53db73",
   "metadata": {},
   "outputs": [
    {
     "name": "stdout",
     "output_type": "stream",
     "text": [
      "['Crazy Love']\n"
     ]
    }
   ],
   "source": [
    "# finding close matches for kdrama\n",
    "find_close_matches = difflib.get_close_matches(kdrame_name, list_all_kdrama)\n",
    "print(find_close_matches)"
   ]
  },
  {
   "cell_type": "code",
   "execution_count": 35,
   "id": "b68d6512",
   "metadata": {},
   "outputs": [
    {
     "name": "stdout",
     "output_type": "stream",
     "text": [
      "Crazy Love\n"
     ]
    }
   ],
   "source": [
    "close_matches = find_close_matches[0]\n",
    "print(close_matches)"
   ]
  },
  {
   "cell_type": "code",
   "execution_count": 36,
   "id": "22c4c63f",
   "metadata": {},
   "outputs": [
    {
     "name": "stdout",
     "output_type": "stream",
     "text": [
      "225\n"
     ]
    }
   ],
   "source": [
    "# finding the index of the movie\n",
    "index_of_kdrama = df[df['Name'] == close_matches]['Rank'].values[0]\n",
    "print(index_of_kdrama)"
   ]
  },
  {
   "cell_type": "code",
   "execution_count": 37,
   "id": "9f2d0516",
   "metadata": {},
   "outputs": [
    {
     "name": "stdout",
     "output_type": "stream",
     "text": [
      "[(0, 0.0630391377615486), (1, 0.09694616566652581), (2, 0.12821449854254507), (3, 0.10283185026744882), (4, 0.08965670487344457), (5, 0.11719163880744139), (6, 0.07588213537276503), (7, 0.10226661554436843), (8, 0.10142143022637388), (9, 0.1225531532841636), (10, 0.13120774206290223), (11, 0.08552477307257128), (12, 0.09519183155983743), (13, 0.09888832358939599), (14, 0.0797124796794982), (15, 0.08151117621088597), (16, 0.12953959298664128), (17, 0.07478330306482785), (18, 0.04697714265413294), (19, 0.09384592298722134), (20, 0.06267952613857924), (21, 0.09425213537145463), (22, 0.11084732438450831), (23, 0.07251003316860673), (24, 0.1287096441156266), (25, 0.16853773382197185), (26, 0.11149679290863747), (27, 0.08250433341874154), (28, 0.07990859474368589), (29, 0.06622589917717465), (30, 0.18072610849590104), (31, 0.041027792534006555), (32, 0.09043126266637133), (33, 0.1080302063414019), (34, 0.10964096780947435), (35, 0.07530143312879652), (36, 0.1104575594802537), (37, 0.035132691423107806), (38, 0.07031792843163467), (39, 0.053886323234832806), (40, 0.07377191425008117), (41, 0.16267491258543398), (42, 0.07192199090374767), (43, 0.1204093985466696), (44, 0.0853833707154511), (45, 0.06325662853469233), (46, 0.12261251186138822), (47, 0.1402012986474768), (48, 0.06075100266110285), (49, 0.061517330006237894), (50, 0.08793229720658256), (51, 0.06289444787800796), (52, 0.0846928348733644), (53, 0.11312173005638827), (54, 0.13011093277364025), (55, 0.09647080078874834), (56, 0.13178015247032146), (57, 0.1693369864067421), (58, 0.08697965764028809), (59, 0.13814157438229704), (60, 0.09039499450137886), (61, 0.06610382981859483), (62, 0.12383767968148626), (63, 0.05799053100896573), (64, 0.11391360279427802), (65, 0.05186982887964661), (66, 0.061061239183385616), (67, 0.06858405932827837), (68, 0.09662149184499835), (69, 0.10454528078584202), (70, 0.08962917926369707), (71, 0.10890484371497829), (72, 0.12272210872491902), (73, 0.09863213991336477), (74, 0.21117837353813965), (75, 0.07956652206040686), (76, 0.07952724765684073), (77, 0.06252622358211658), (78, 0.18532757417521759), (79, 0.09353048685680503), (80, 0.06798629266500686), (81, 0.13296174506363487), (82, 0.0714491857182384), (83, 0.11044175392148824), (84, 0.09632698202158935), (85, 0.08068015369369462), (86, 0.05463232909532317), (87, 0.06043691463839358), (88, 0.06492080325666404), (89, 0.10436883069049337), (90, 0.07223333996988775), (91, 0.08343088925955937), (92, 0.0852375245867949), (93, 0.09312194302891584), (94, 0.08544080779959379), (95, 0.13645969305614), (96, 0.06420420489319192), (97, 0.14363509119475293), (98, 0.11991753170051447), (99, 0.11527133783241171), (100, 0.10185104516611247), (101, 0.1740322289592664), (102, 0.07747019759422476), (103, 0.18553799964756376), (104, 0.081066698376518), (105, 0.21388586345226715), (106, 0.11901946596294036), (107, 0.10272040310536251), (108, 0.05500983783165216), (109, 0.07378766817899443), (110, 0.07480015408557984), (111, 0.07012112304112385), (112, 0.10243043423028496), (113, 0.06831031864818077), (114, 0.05835603286815966), (115, 0.06663958671785318), (116, 0.09410024053437296), (117, 0.08807630280639993), (118, 0.1451463377505799), (119, 0.08878820458969013), (120, 0.19582257264929692), (121, 0.09980684006829796), (122, 0.18924858306001585), (123, 0.09752327509379675), (124, 0.12348199380923194), (125, 0.09947560387812245), (126, 0.11218357087182343), (127, 0.11019975981660521), (128, 0.0984477559053897), (129, 0.15070412227283475), (130, 0.08688187809229282), (131, 0.1374151222784407), (132, 0.11997965729339818), (133, 0.17137184872443723), (134, 0.15012476914136905), (135, 0.05579112299894242), (136, 0.09954343409425859), (137, 0.09487720734680022), (138, 0.12530158057647411), (139, 0.1175099137527567), (140, 0.14313599671315924), (141, 0.08223049533227907), (142, 0.1197380920376175), (143, 0.11625837227632128), (144, 0.1535177600459534), (145, 0.18708587200618418), (146, 0.11741936641361186), (147, 0.07806261013019747), (148, 0.16097862382077333), (149, 0.11873372247355742), (150, 0.10253894802922435), (151, 0.07588536344799028), (152, 0.08448894262865836), (153, 0.20633927552505799), (154, 0.1427731049533167), (155, 0.20406717522482654), (156, 0.16417314214170936), (157, 0.06719133860799097), (158, 0.08159440350603088), (159, 0.23097779808345162), (160, 0.1305796399793876), (161, 0.10856555075972349), (162, 0.16699050650240943), (163, 0.08002931444408275), (164, 0.04144069936819111), (165, 0.14069961528525507), (166, 0.07661615033333233), (167, 0.11635338781481204), (168, 0.10189040507024232), (169, 0.10963176453504274), (170, 0.14289968449757223), (171, 0.08903710957343336), (172, 0.12373484819940271), (173, 0.08115708021739522), (174, 0.08219056085739247), (175, 0.19052984221837893), (176, 0.15113665327070608), (177, 0.09239404135413085), (178, 0.13970829378616215), (179, 0.12606413021704557), (180, 0.1273895206939432), (181, 0.06491172749555135), (182, 0.09926397170544995), (183, 0.12493556512005262), (184, 0.09687167809302474), (185, 0.20351905291549427), (186, 0.164232526367841), (187, 0.056818633674201244), (188, 0.06492362428667252), (189, 0.12032550467399447), (190, 0.15243850373118006), (191, 0.17249222683769697), (192, 0.0632807407265434), (193, 0.14515649396206146), (194, 0.15802447572460143), (195, 0.10063774135123366), (196, 0.09357150205730971), (197, 0.09942781446684676), (198, 0.08783156666909245), (199, 0.10286288373941999), (200, 0.13996127057649344), (201, 0.037665779730340056), (202, 0.10641486907231668), (203, 0.12784754862000963), (204, 0.06253895204457606), (205, 0.16680080527148644), (206, 0.1615135755744971), (207, 0.11708074954348578), (208, 0.12222493290062393), (209, 0.08332190981840377), (210, 0.08308510533497722), (211, 0.09281283971888427), (212, 0.14073417804682026), (213, 0.1307480235221623), (214, 0.10876376752211722), (215, 0.22014509279777528), (216, 0.18221490291805115), (217, 0.1564111409175614), (218, 0.1578800735109679), (219, 0.06774224181351814), (220, 0.14150286712668125), (221, 0.060868506085907464), (222, 0.0910940988814823), (223, 0.055399571229516734), (224, 0.11732464110733659), (225, 1.0), (226, 0.09209232289867435), (227, 0.14424053304238144), (228, 0.1583792184863052), (229, 0.06361090914961075), (230, 0.15731314033184038), (231, 0.07770853748163384), (232, 0.16609452637308209), (233, 0.07795176795629215), (234, 0.06379687063563073), (235, 0.05754854120045977), (236, 0.087182191060698), (237, 0.10046527873423926), (238, 0.18250239979803348), (239, 0.05802205950716549), (240, 0.06710313930402599), (241, 0.11605159145843465)]\n"
     ]
    }
   ],
   "source": [
    "# getting a list similar movies\n",
    "similarity_score = list(enumerate(similarity[index_of_kdrama]))\n",
    "print(similarity_score)"
   ]
  },
  {
   "cell_type": "code",
   "execution_count": 38,
   "id": "36bc8baf",
   "metadata": {},
   "outputs": [
    {
     "data": {
      "text/plain": [
       "242"
      ]
     },
     "execution_count": 38,
     "metadata": {},
     "output_type": "execute_result"
    }
   ],
   "source": [
    "len(similarity_score)"
   ]
  },
  {
   "cell_type": "code",
   "execution_count": 39,
   "id": "741dbede",
   "metadata": {},
   "outputs": [
    {
     "name": "stdout",
     "output_type": "stream",
     "text": [
      "[(225, 1.0), (159, 0.23097779808345162), (215, 0.22014509279777528), (105, 0.21388586345226715), (74, 0.21117837353813965), (153, 0.20633927552505799), (155, 0.20406717522482654), (185, 0.20351905291549427), (120, 0.19582257264929692), (175, 0.19052984221837893), (122, 0.18924858306001585), (145, 0.18708587200618418), (103, 0.18553799964756376), (78, 0.18532757417521759), (238, 0.18250239979803348), (216, 0.18221490291805115), (30, 0.18072610849590104), (101, 0.1740322289592664), (191, 0.17249222683769697), (133, 0.17137184872443723), (57, 0.1693369864067421), (25, 0.16853773382197185), (162, 0.16699050650240943), (205, 0.16680080527148644), (232, 0.16609452637308209), (186, 0.164232526367841), (156, 0.16417314214170936), (41, 0.16267491258543398), (206, 0.1615135755744971), (148, 0.16097862382077333), (228, 0.1583792184863052), (194, 0.15802447572460143), (218, 0.1578800735109679), (230, 0.15731314033184038), (217, 0.1564111409175614), (144, 0.1535177600459534), (190, 0.15243850373118006), (176, 0.15113665327070608), (129, 0.15070412227283475), (134, 0.15012476914136905), (193, 0.14515649396206146), (118, 0.1451463377505799), (227, 0.14424053304238144), (97, 0.14363509119475293), (140, 0.14313599671315924), (170, 0.14289968449757223), (154, 0.1427731049533167), (220, 0.14150286712668125), (212, 0.14073417804682026), (165, 0.14069961528525507), (47, 0.1402012986474768), (200, 0.13996127057649344), (178, 0.13970829378616215), (59, 0.13814157438229704), (131, 0.1374151222784407), (95, 0.13645969305614), (81, 0.13296174506363487), (56, 0.13178015247032146), (10, 0.13120774206290223), (213, 0.1307480235221623), (160, 0.1305796399793876), (54, 0.13011093277364025), (16, 0.12953959298664128), (24, 0.1287096441156266), (2, 0.12821449854254507), (203, 0.12784754862000963), (180, 0.1273895206939432), (179, 0.12606413021704557), (138, 0.12530158057647411), (183, 0.12493556512005262), (62, 0.12383767968148626), (172, 0.12373484819940271), (124, 0.12348199380923194), (72, 0.12272210872491902), (46, 0.12261251186138822), (9, 0.1225531532841636), (208, 0.12222493290062393), (43, 0.1204093985466696), (189, 0.12032550467399447), (132, 0.11997965729339818), (98, 0.11991753170051447), (142, 0.1197380920376175), (106, 0.11901946596294036), (149, 0.11873372247355742), (139, 0.1175099137527567), (146, 0.11741936641361186), (224, 0.11732464110733659), (5, 0.11719163880744139), (207, 0.11708074954348578), (167, 0.11635338781481204), (143, 0.11625837227632128), (241, 0.11605159145843465), (99, 0.11527133783241171), (64, 0.11391360279427802), (53, 0.11312173005638827), (126, 0.11218357087182343), (26, 0.11149679290863747), (22, 0.11084732438450831), (36, 0.1104575594802537), (83, 0.11044175392148824), (127, 0.11019975981660521), (34, 0.10964096780947435), (169, 0.10963176453504274), (71, 0.10890484371497829), (214, 0.10876376752211722), (161, 0.10856555075972349), (33, 0.1080302063414019), (202, 0.10641486907231668), (69, 0.10454528078584202), (89, 0.10436883069049337), (199, 0.10286288373941999), (3, 0.10283185026744882), (107, 0.10272040310536251), (150, 0.10253894802922435), (112, 0.10243043423028496), (7, 0.10226661554436843), (168, 0.10189040507024232), (100, 0.10185104516611247), (8, 0.10142143022637388), (195, 0.10063774135123366), (237, 0.10046527873423926), (121, 0.09980684006829796), (136, 0.09954343409425859), (125, 0.09947560387812245), (197, 0.09942781446684676), (182, 0.09926397170544995), (13, 0.09888832358939599), (73, 0.09863213991336477), (128, 0.0984477559053897), (123, 0.09752327509379675), (1, 0.09694616566652581), (184, 0.09687167809302474), (68, 0.09662149184499835), (55, 0.09647080078874834), (84, 0.09632698202158935), (12, 0.09519183155983743), (137, 0.09487720734680022), (21, 0.09425213537145463), (116, 0.09410024053437296), (19, 0.09384592298722134), (196, 0.09357150205730971), (79, 0.09353048685680503), (93, 0.09312194302891584), (211, 0.09281283971888427), (177, 0.09239404135413085), (226, 0.09209232289867435), (222, 0.0910940988814823), (32, 0.09043126266637133), (60, 0.09039499450137886), (4, 0.08965670487344457), (70, 0.08962917926369707), (171, 0.08903710957343336), (119, 0.08878820458969013), (117, 0.08807630280639993), (50, 0.08793229720658256), (198, 0.08783156666909245), (236, 0.087182191060698), (58, 0.08697965764028809), (130, 0.08688187809229282), (11, 0.08552477307257128), (94, 0.08544080779959379), (44, 0.0853833707154511), (92, 0.0852375245867949), (52, 0.0846928348733644), (152, 0.08448894262865836), (91, 0.08343088925955937), (209, 0.08332190981840377), (210, 0.08308510533497722), (27, 0.08250433341874154), (141, 0.08223049533227907), (174, 0.08219056085739247), (158, 0.08159440350603088), (15, 0.08151117621088597), (173, 0.08115708021739522), (104, 0.081066698376518), (85, 0.08068015369369462), (163, 0.08002931444408275), (28, 0.07990859474368589), (14, 0.0797124796794982), (75, 0.07956652206040686), (76, 0.07952724765684073), (147, 0.07806261013019747), (233, 0.07795176795629215), (231, 0.07770853748163384), (102, 0.07747019759422476), (166, 0.07661615033333233), (151, 0.07588536344799028), (6, 0.07588213537276503), (35, 0.07530143312879652), (110, 0.07480015408557984), (17, 0.07478330306482785), (109, 0.07378766817899443), (40, 0.07377191425008117), (23, 0.07251003316860673), (90, 0.07223333996988775), (42, 0.07192199090374767), (82, 0.0714491857182384), (38, 0.07031792843163467), (111, 0.07012112304112385), (67, 0.06858405932827837), (113, 0.06831031864818077), (80, 0.06798629266500686), (219, 0.06774224181351814), (157, 0.06719133860799097), (240, 0.06710313930402599), (115, 0.06663958671785318), (29, 0.06622589917717465), (61, 0.06610382981859483), (188, 0.06492362428667252), (88, 0.06492080325666404), (181, 0.06491172749555135), (96, 0.06420420489319192), (234, 0.06379687063563073), (229, 0.06361090914961075), (192, 0.0632807407265434), (45, 0.06325662853469233), (0, 0.0630391377615486), (51, 0.06289444787800796), (20, 0.06267952613857924), (204, 0.06253895204457606), (77, 0.06252622358211658), (49, 0.061517330006237894), (66, 0.061061239183385616), (221, 0.060868506085907464), (48, 0.06075100266110285), (87, 0.06043691463839358), (114, 0.05835603286815966), (239, 0.05802205950716549), (63, 0.05799053100896573), (235, 0.05754854120045977), (187, 0.056818633674201244), (135, 0.05579112299894242), (223, 0.055399571229516734), (108, 0.05500983783165216), (86, 0.05463232909532317), (39, 0.053886323234832806), (65, 0.05186982887964661), (18, 0.04697714265413294), (164, 0.04144069936819111), (31, 0.041027792534006555), (201, 0.037665779730340056), (37, 0.035132691423107806)]\n"
     ]
    }
   ],
   "source": [
    "# sorting movies based on similarity score\n",
    "sorted_similar_movies = sorted(similarity_score, key=lambda x: x[1], reverse=True)\n",
    "print(sorted_similar_movies)"
   ]
  },
  {
   "cell_type": "code",
   "execution_count": 40,
   "id": "62393638",
   "metadata": {},
   "outputs": [
    {
     "name": "stdout",
     "output_type": "stream",
     "text": [
      "KDrama suggested for you : \n",
      "\n",
      "1 . Crazy Love\n",
      "2 . Pinocchio\n",
      "3 . The Guardians\n",
      "4 . Arthdal Chronicles Part 1\n",
      "5 . It's Okay, That's Love\n",
      "6 . Sh**ting Stars\n",
      "7 . Mad Dog\n",
      "8 . City Hunter\n",
      "9 . Dali and the Cocky Prince\n",
      "10 . Partners for Justice\n"
     ]
    }
   ],
   "source": [
    "# printing the name of similarity kdrama based on index\n",
    "print(\"KDrama suggested for you : \\n\")\n",
    "\n",
    "i = 1\n",
    "\n",
    "for movie in sorted_similar_movies:\n",
    "    index = movie[0]\n",
    "    title_from_index = df[df['Rank'] == index]['Name'].values\n",
    "    if len(title_from_index) > 0:\n",
    "        title_from_index = title_from_index[0]\n",
    "        if (i<=10):\n",
    "            print(i, \".\", title_from_index)\n",
    "            i += 1\n",
    "    else:\n",
    "        continue"
   ]
  },
  {
   "cell_type": "code",
   "execution_count": 47,
   "id": "f0c8572e",
   "metadata": {},
   "outputs": [
    {
     "name": "stdout",
     "output_type": "stream",
     "text": [
      "Enter the name of the movie you want to search: Pinocchio\n",
      "KDrama suggested for you : \n",
      "\n",
      "1 - Pinocchio\n",
      "2 - City Hunter\n",
      "3 - The Guardians\n",
      "4 - Empress Ki\n",
      "5 - It's Okay, That's Love\n",
      "6 - The Guest\n",
      "7 - Bad Guys\n",
      "8 - Rookie Cops\n",
      "9 - Voice 2\n",
      "10 - Mad Dog\n",
      "11 - Sh**ting Stars\n",
      "12 - The Beauty Inside\n",
      "13 - Welcome 2 Life\n",
      "14 - When the Camellia Blooms\n",
      "15 - Touch Your Heart\n",
      "16 - My Mister\n",
      "17 - Just Between Lovers\n",
      "18 - Search: WWW\n",
      "19 - Crazy Love\n",
      "20 - Moon Lovers\n"
     ]
    }
   ],
   "source": [
    "kdrame_name = input(\"Enter the name of the movie you want to search: \")\n",
    "\n",
    "list_all_kdrama = df['Name'].tolist()\n",
    "\n",
    "find_close_matches = difflib.get_close_matches(kdrame_name, list_all_kdrama)\n",
    "\n",
    "close_matches = find_close_matches[0]\n",
    "\n",
    "index_of_kdrama = df[df['Name'] == close_matches]['Rank'].values[0]\n",
    "\n",
    "similarity_score = list(enumerate(similarity[index_of_kdrama]))\n",
    "\n",
    "sorted_similar_movies = sorted(similarity_score, key=lambda x: x[1], reverse=True)\n",
    "\n",
    "print(\"KDrama suggested for you : \\n\")\n",
    "\n",
    "i = 1\n",
    "\n",
    "for movie in sorted_similar_movies:\n",
    "    index = movie[0]\n",
    "    title_from_index = df[df['Rank'] == index]['Name'].values\n",
    "    if len(title_from_index) > 0:\n",
    "        title_from_index = title_from_index[0]\n",
    "        if (i<=20):\n",
    "            print(i,\"-\", title_from_index)\n",
    "            i += 1\n",
    "    else:\n",
    "        continue"
   ]
  }
 ],
 "metadata": {
  "kernelspec": {
   "display_name": "Python 3 (ipykernel)",
   "language": "python",
   "name": "python3"
  },
  "language_info": {
   "codemirror_mode": {
    "name": "ipython",
    "version": 3
   },
   "file_extension": ".py",
   "mimetype": "text/x-python",
   "name": "python",
   "nbconvert_exporter": "python",
   "pygments_lexer": "ipython3",
   "version": "3.10.5"
  }
 },
 "nbformat": 4,
 "nbformat_minor": 5
}
